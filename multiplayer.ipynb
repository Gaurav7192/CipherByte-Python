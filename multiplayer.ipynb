{
 "cells": [
  {
   "cell_type": "code",
   "execution_count": 1,
   "id": "c574e781-b415-4855-b41c-964a761ce539",
   "metadata": {},
   "outputs": [
    {
     "name": "stdin",
     "output_type": "stream",
     "text": [
      "player1 enter number  234\n",
      "player2 try  to guess number 167\n"
     ]
    },
    {
     "name": "stdout",
     "output_type": "stream",
     "text": [
      "Hint \n",
      "no digit match\n"
     ]
    },
    {
     "name": "stdin",
     "output_type": "stream",
     "text": [
      "player2 try  to guess number 289\n"
     ]
    },
    {
     "name": "stdout",
     "output_type": "stream",
     "text": [
      "Hint \n",
      "2 present\t"
     ]
    },
    {
     "name": "stdin",
     "output_type": "stream",
     "text": [
      "player2 try  to guess number 234\n"
     ]
    },
    {
     "name": "stdout",
     "output_type": "stream",
     "text": [
      "\n",
      "\n",
      " \n",
      " Now it player1 turn \n"
     ]
    },
    {
     "name": "stdin",
     "output_type": "stream",
     "text": [
      "player will set number 12367\n",
      "player1 guess number 2378\n"
     ]
    },
    {
     "name": "stdout",
     "output_type": "stream",
     "text": [
      "Hint \n",
      "2 present\t3 present\t7 present\t\n"
     ]
    },
    {
     "name": "stdin",
     "output_type": "stream",
     "text": [
      "player1 try  to guess number 2379\n"
     ]
    },
    {
     "name": "stdout",
     "output_type": "stream",
     "text": [
      "Hint \n",
      "2 present\t3 present\t7 present\t\n"
     ]
    },
    {
     "name": "stdin",
     "output_type": "stream",
     "text": [
      "player1 try  to guess number 2378\n"
     ]
    },
    {
     "name": "stdout",
     "output_type": "stream",
     "text": [
      "Hint \n",
      "2 present\t3 present\t7 present\t\n"
     ]
    },
    {
     "name": "stdin",
     "output_type": "stream",
     "text": [
      "player1 try  to guess number 2378\n"
     ]
    },
    {
     "name": "stdout",
     "output_type": "stream",
     "text": [
      "Hint \n",
      "2 present\t3 present\t7 present\t\n"
     ]
    },
    {
     "name": "stdin",
     "output_type": "stream",
     "text": [
      "player1 try  to guess number 12367\n"
     ]
    },
    {
     "name": "stdout",
     "output_type": "stream",
     "text": [
      "player2 win \n"
     ]
    }
   ],
   "source": [
    "player1=input(\"player1 enter number \")\n",
    "p1=0\n",
    "p2=0\n",
    "player2=input(\"player2 try  to guess number\")\n",
    "\n",
    "while(player1 !=player2):\n",
    "    if player1!=player2:\n",
    "        \n",
    "        \n",
    "        print(\"Hint \")\n",
    "        p2+=1\n",
    "        c=0\n",
    "        for i in range(0,len(player2)):\n",
    "            \n",
    "            \n",
    "            if player2[i] in player1:\n",
    "                c+=1\n",
    "                \n",
    "                print(player2[i],\"present\",end=\"\\t\")\n",
    "        if c==0 :\n",
    "            print(\"no digit match\")\n",
    "        player2=input(\"player2 try  to guess number\")\n",
    "    else:\n",
    "        \n",
    "        print(\"Player2 guess right number  \",player2)\n",
    "\n",
    "print(\"\\n\\n \\n Now it player1 turn \" )\n",
    "player2=input(\"player will set number\")\n",
    "player1=input(\"player1 guess number\")\n",
    "while(player1!=player2):\n",
    "    if player1!=player2:\n",
    "        c=0\n",
    "        print(\"Hint \")\n",
    "        p1+=1\n",
    "        for i in range(0,len(player1)):\n",
    "            if player1[i] in player2:\n",
    "                c+=1\n",
    "                print(player1[i],\"present\",end=\"\\t\")\n",
    "        print()\n",
    "        if c==0 :\n",
    "            print(\"no digit match\")\n",
    "        player1=input(\"player1 try  to guess number\")\n",
    "    else:\n",
    "        print(\"Player1 guess write number  \",player1)\n",
    "if p1<p2:\n",
    "    print(\"player1 win \")\n",
    "else:\n",
    "    print(\"player2 win \")"
   ]
  },
  {
   "cell_type": "code",
   "execution_count": null,
   "id": "3ec43d3a-f8a0-4ecf-b8c4-5be904682e5d",
   "metadata": {},
   "outputs": [],
   "source": []
  },
  {
   "cell_type": "code",
   "execution_count": null,
   "id": "85ae29da-afb8-4281-8753-9aea720dd8d3",
   "metadata": {},
   "outputs": [],
   "source": []
  }
 ],
 "metadata": {
  "kernelspec": {
   "display_name": "Python 3 (ipykernel)",
   "language": "python",
   "name": "python3"
  },
  "language_info": {
   "codemirror_mode": {
    "name": "ipython",
    "version": 3
   },
   "file_extension": ".py",
   "mimetype": "text/x-python",
   "name": "python",
   "nbconvert_exporter": "python",
   "pygments_lexer": "ipython3",
   "version": "3.11.8"
  },
  "widgets": {
   "application/vnd.jupyter.widget-state+json": {
    "state": {},
    "version_major": 2,
    "version_minor": 0
   }
  }
 },
 "nbformat": 4,
 "nbformat_minor": 5
}
