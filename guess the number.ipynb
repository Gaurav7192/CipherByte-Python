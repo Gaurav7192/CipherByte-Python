{
 "cells": [
  {
   "cell_type": "code",
   "execution_count": 1,
   "id": "07b16a8d-2266-47eb-a91c-db7708e07fb0",
   "metadata": {},
   "outputs": [],
   "source": [
    "import random as r"
   ]
  },
  {
   "cell_type": "code",
   "execution_count": null,
   "id": "2448e0c2-b22c-49d0-9446-9435fdeb04d8",
   "metadata": {},
   "outputs": [],
   "source": [
    "i=r.randint(1,100)\n",
    "a=int(input(\"try to guess number\"))\n",
    "while(a!=i):\n",
    "    if(a>i):\n",
    "        print(\"think smaller\")\n",
    "        a=int(input(\"try to guess number\\n\"))\n",
    "    elif a<i:\n",
    "        print(\"think biggerr\")\n",
    "        a=int(input(\"try to guess number\\n \"))\n",
    "    elif a==i :\n",
    "        print(\"you guess right number\")"
   ]
  },
  {
   "cell_type": "code",
   "execution_count": null,
   "id": "5303ce51-2068-4ec8-8337-74bc665ee7cb",
   "metadata": {},
   "outputs": [],
   "source": []
  }
 ],
 "metadata": {
  "kernelspec": {
   "display_name": "Python 3 (ipykernel)",
   "language": "python",
   "name": "python3"
  },
  "language_info": {
   "codemirror_mode": {
    "name": "ipython",
    "version": 3
   },
   "file_extension": ".py",
   "mimetype": "text/x-python",
   "name": "python",
   "nbconvert_exporter": "python",
   "pygments_lexer": "ipython3",
   "version": "3.11.8"
  },
  "widgets": {
   "application/vnd.jupyter.widget-state+json": {
    "state": {},
    "version_major": 2,
    "version_minor": 0
   }
  }
 },
 "nbformat": 4,
 "nbformat_minor": 5
}
