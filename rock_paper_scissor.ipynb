{
 "cells": [
  {
   "cell_type": "code",
   "execution_count": 1,
   "id": "d6aae6c8-096d-4830-8d59-0bdc29bc07ba",
   "metadata": {},
   "outputs": [],
   "source": [
    "import emoji\n",
    "import random"
   ]
  },
  {
   "cell_type": "code",
   "execution_count": 2,
   "id": "cab05954-d141-4678-bba4-c55dacea8f5e",
   "metadata": {},
   "outputs": [
    {
     "name": "stdin",
     "output_type": "stream",
     "text": [
      "r for rock \n",
      " s for scissor \n",
      " p for paper p\n"
     ]
    },
    {
     "name": "stdout",
     "output_type": "stream",
     "text": [
      "You win computer choose rock\n"
     ]
    },
    {
     "name": "stdin",
     "output_type": "stream",
     "text": [
      "\n",
      "\n",
      "enter 1 for continue and 0 for end 1\n",
      "r for rock \n",
      " s for scissor \n",
      " p for paper s\n"
     ]
    },
    {
     "name": "stdout",
     "output_type": "stream",
     "text": [
      "You win computer choose paper\n"
     ]
    },
    {
     "name": "stdin",
     "output_type": "stream",
     "text": [
      "\n",
      "\n",
      "enter 1 for continue and 0 for end 0\n"
     ]
    }
   ],
   "source": [
    "q=1\n",
    "while(q!=0):\n",
    "    i=input(\"r for rock \\n s for scissor \\n p for paper\")\n",
    "    com=random.choice(['r','s','p'])\n",
    "\n",
    "    \n",
    "    if i=='r' and com=='s':\n",
    "        \n",
    "        print(\"You win computer choose scissor\")\n",
    "    elif i=='r' and com=='p':\n",
    "        print(\"You loose computer choose paper\")\n",
    "    elif i=='p' and com=='r':\n",
    "        print(\"You win computer choose rock\")\n",
    "    elif i=='p' and com=='s':\n",
    "        print(\"You loose computer choose scissor\")\n",
    "    elif i=='s' and com=='r':\n",
    "        print(\"You loose computer choose rock\")\n",
    "    elif i=='s' and com=='p':\n",
    "        print(\"You win computer choose paper\")\n",
    "    else:\n",
    "        (\"invalid input\")\n",
    "    q=int(input(\"\\n\\nenter 1 for continue and 0 for end\"))"
   ]
  },
  {
   "cell_type": "code",
   "execution_count": null,
   "id": "f1b23fbb-69f6-4bcf-9284-3ca46749c116",
   "metadata": {},
   "outputs": [],
   "source": []
  }
 ],
 "metadata": {
  "kernelspec": {
   "display_name": "Python 3 (ipykernel)",
   "language": "python",
   "name": "python3"
  },
  "language_info": {
   "codemirror_mode": {
    "name": "ipython",
    "version": 3
   },
   "file_extension": ".py",
   "mimetype": "text/x-python",
   "name": "python",
   "nbconvert_exporter": "python",
   "pygments_lexer": "ipython3",
   "version": "3.11.8"
  },
  "widgets": {
   "application/vnd.jupyter.widget-state+json": {
    "state": {},
    "version_major": 2,
    "version_minor": 0
   }
  }
 },
 "nbformat": 4,
 "nbformat_minor": 5
}
